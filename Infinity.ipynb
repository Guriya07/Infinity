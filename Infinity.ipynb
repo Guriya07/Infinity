{
 "cells": [
  {
   "cell_type": "code",
   "execution_count": 2,
   "id": "6290c69e-7ec4-4719-85e5-14a84b6355ff",
   "metadata": {},
   "outputs": [
    {
     "data": {
      "text/plain": [
       "<function turtle.mainloop()>"
      ]
     },
     "execution_count": 2,
     "metadata": {},
     "output_type": "execute_result"
    }
   ],
   "source": [
    "import turtle as t\n",
    "import colorsys \n",
    "t.bgcolor('black')\n",
    "t.speed('fastest')\n",
    "t.hideturtle()\n",
    "t.right(60)\n",
    "hue=0.0\n",
    "for i in range(150):\n",
    "    color=colorsys.hsv_to_rgb(hue,1,1)\n",
    "    t.pencolor(color)\n",
    "    hue+=0.007\n",
    "    t.circle(30)\n",
    "    if 7<i<62:\n",
    "        t.left(5)\n",
    "    if 80<i<133:\n",
    "        t.right(5)\n",
    "    if i<80:\n",
    "        t.forward(10)\n",
    "    else:\n",
    "        t.forward(5)\n",
    "t.tracer(10)\n",
    "t.done\n"
   ]
  },
  {
   "cell_type": "code",
   "execution_count": null,
   "id": "41706a91-2f5a-4e77-8f6b-226aba859662",
   "metadata": {},
   "outputs": [],
   "source": []
  }
 ],
 "metadata": {
  "kernelspec": {
   "display_name": "Python 3 (ipykernel)",
   "language": "python",
   "name": "python3"
  },
  "language_info": {
   "codemirror_mode": {
    "name": "ipython",
    "version": 3
   },
   "file_extension": ".py",
   "mimetype": "text/x-python",
   "name": "python",
   "nbconvert_exporter": "python",
   "pygments_lexer": "ipython3",
   "version": "3.9.13"
  }
 },
 "nbformat": 4,
 "nbformat_minor": 5
}
